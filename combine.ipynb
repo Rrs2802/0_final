{
 "cells": [
  {
   "cell_type": "code",
   "execution_count": 7,
   "metadata": {},
   "outputs": [],
   "source": [
    "import pandas as pd\n",
    "\n",
    "# Load your three CSV datasets into separate DataFrames\n",
    "df1 = pd.read_csv('C:/Users/hp/Desktop/hip/again/new_data/new_a.csv')\n",
    "df2 = pd.read_csv('C:/Users/hp/Desktop/hip/again/new_data/new_c.csv')\n",
    "df3 = pd.read_csv('C:/Users/hp/Desktop/hip/again/new_data/new_co.csv')\n",
    "\n",
    "# Combine the DataFrames into a single DataFrame\n",
    "combined_df = pd.concat([df1, df2, df3], ignore_index=True)\n",
    "\n",
    "# Add a new column with the value \"cathodic\" for all rows\n",
    "#combined_df['Output'] = 'anodic'\n",
    "\n",
    "# Save the combined DataFrame to a new CSV file\n",
    "combined_df.to_csv('C:/Users/hp/Desktop/hip/again/all_combined.csv', index=False)"
   ]
  },
  {
   "cell_type": "code",
   "execution_count": 9,
   "metadata": {},
   "outputs": [
    {
     "name": "stdout",
     "output_type": "stream",
     "text": [
      "Time    0\n",
      "AE      0\n",
      "EC      0\n",
      "M       0\n",
      "O       0\n",
      "dtype: int64\n"
     ]
    }
   ],
   "source": [
    "import numpy as np\n",
    "\n",
    "df1 = pd.read_csv(\"C:/Users/hp/Desktop/hip/again/all_combined.csv\")\n",
    "print(np.isnan(df1).sum())"
   ]
  }
 ],
 "metadata": {
  "kernelspec": {
   "display_name": "Python 3",
   "language": "python",
   "name": "python3"
  },
  "language_info": {
   "codemirror_mode": {
    "name": "ipython",
    "version": 3
   },
   "file_extension": ".py",
   "mimetype": "text/x-python",
   "name": "python",
   "nbconvert_exporter": "python",
   "pygments_lexer": "ipython3",
   "version": "3.11.3"
  }
 },
 "nbformat": 4,
 "nbformat_minor": 2
}
